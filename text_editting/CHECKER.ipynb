{
 "cells": [
  {
   "cell_type": "code",
   "execution_count": 1,
   "metadata": {},
   "outputs": [],
   "source": [
    "import language_tool_python\n"
   ]
  },
  {
   "cell_type": "code",
   "execution_count": 3,
   "metadata": {},
   "outputs": [
    {
     "name": "stderr",
     "output_type": "stream",
     "text": [
      "Downloading LanguageTool 5.7: 100%|██████████| 225M/225M [08:25<00:00, 445kB/s]  \n",
      "Unzipping C:\\Users\\Dell\\AppData\\Local\\Temp\\tmpglg9j04a.zip to C:\\Users\\Dell\\.cache\\language_tool_python.\n",
      "Downloaded https://www.languagetool.org/download/LanguageTool-5.7.zip to C:\\Users\\Dell\\.cache\\language_tool_python.\n"
     ]
    }
   ],
   "source": [
    "tool = language_tool_python.LanguageTool(\"en-US\")"
   ]
  },
  {
   "cell_type": "code",
   "execution_count": 4,
   "metadata": {},
   "outputs": [],
   "source": [
    "text = \"\"\"LanguageTool offers spell and grammar checking.\n",
    "Just paste your text here and click the 'Check Text' button.\n",
    "Click the colored phrases for details on potential errors.\n",
    "or use this text too see an few of of the problems that\n",
    "LanguageTool can detecd. What do you thinks of grammar checkers?\n",
    "Please not that they are not perfect. Style issues get a blue marker:\n",
    "It's 5 P.M. in the afternoon. The weather was nice on Thursday, 27 June 2017\"\"\""
   ]
  },
  {
   "cell_type": "code",
   "execution_count": 5,
   "metadata": {},
   "outputs": [],
   "source": [
    "matches = tool.check(text)"
   ]
  },
  {
   "cell_type": "code",
   "execution_count": 8,
   "metadata": {},
   "outputs": [
    {
     "name": "stdout",
     "output_type": "stream",
     "text": [
      "Offset 168, length 2, Rule ID: UPPERCASE_SENTENCE_START\n",
      "Message: This sentence does not start with an uppercase letter.\n",
      "Suggestion: Or\n",
      "...hrases for details on potential errors. or use this text too see an few of of the ...\n",
      "                                           ^^\n",
      "Error starts at => 168\n",
      "Error ends at => 170\n",
      "Error in text => or\n",
      "Can be replaced with => ['Or']\n",
      "\n",
      "--------------\n",
      "Offset 185, length 7, Rule ID: TOO_TO\n",
      "Message: Did you mean “to see”?\n",
      "Suggestion: to see\n",
      "...s on potential errors. or use this text too see an few of of the problems that Language...\n",
      "                                           ^^^^^^^\n",
      "Error starts at => 185\n",
      "Error ends at => 192\n",
      "Error in text => too see\n",
      "Can be replaced with => ['to see']\n",
      "\n",
      "--------------\n",
      "Offset 193, length 2, Rule ID: EN_A_VS_AN\n",
      "Message: Use “a” instead of ‘an’ if the following word doesn’t start with a vowel sound, e.g. ‘a sentence’, ‘a university’.\n",
      "Suggestion: a\n",
      "...ential errors. or use this text too see an few of of the problems that LanguageToo...\n",
      "                                           ^^\n",
      "Error starts at => 193\n",
      "Error ends at => 195\n",
      "Error in text => an\n",
      "Can be replaced with => ['a']\n",
      "\n",
      "--------------\n",
      "Offset 200, length 5, Rule ID: ENGLISH_WORD_REPEAT_RULE\n",
      "Message: Possible typo: you repeated a word\n",
      "Suggestion: of\n",
      "...errors. or use this text too see an few of of the problems that LanguageTool can dete...\n",
      "                                           ^^^^^\n",
      "Error starts at => 200\n",
      "Error ends at => 205\n",
      "Error in text => of of\n",
      "Can be replaced with => ['of']\n",
      "\n",
      "--------------\n",
      "Offset 241, length 6, Rule ID: MORFOLOGIK_RULE_EN_US\n",
      "Message: Possible spelling mistake found.\n",
      "Suggestion: detect\n",
      "...f of the problems that LanguageTool can detecd. What do you thinks of grammar checkers...\n",
      "                                           ^^^^^^\n",
      "Error starts at => 241\n",
      "Error ends at => 247\n",
      "Error in text => detecd\n",
      "Can be replaced with => ['detect']\n",
      "\n",
      "--------------\n",
      "Offset 261, length 6, Rule ID: DO_VBZ\n",
      "Message: After the auxiliary verb ‘do’, use the base form of the main verb. Did you mean “think”?\n",
      "Suggestion: think\n",
      "...at LanguageTool can detecd. What do you thinks of grammar checkers? Please not that th...\n",
      "                                           ^^^^^^\n",
      "Error starts at => 261\n",
      "Error ends at => 267\n",
      "Error in text => thinks\n",
      "Can be replaced with => ['think']\n",
      "\n",
      "--------------\n",
      "Offset 296, length 3, Rule ID: PLEASE_NOT_THAT\n",
      "Message: Did you mean “note”?\n",
      "Suggestion: note\n",
      "... you thinks of grammar checkers? Please not that they are not perfect. Style issues...\n",
      "                                           ^^^\n",
      "Error starts at => 296\n",
      "Error ends at => 299\n",
      "Error in text => not\n",
      "Can be replaced with => ['note']\n",
      "\n",
      "--------------\n",
      "Offset 366, length 21, Rule ID: PM_IN_THE_EVENING\n",
      "Message: This is redundant. Consider using “P.M.”\n",
      "Suggestion: P.M.\n",
      "... Style issues get a blue marker: It's 5 P.M. in the afternoon. The weather was nice on Thursday, 27 J...\n",
      "                                           ^^^^^^^^^^^^^^^^^^^^^\n",
      "Error starts at => 366\n",
      "Error ends at => 387\n",
      "Error in text => P.M. in the afternoon\n",
      "Can be replaced with => ['P.M.']\n",
      "\n",
      "--------------\n",
      "Offset 413, length 22, Rule ID: DATE_WEEKDAY\n",
      "Message: The date 27 June 2017 is not a Thursday, but a Tuesday.\n",
      "... the afternoon. The weather was nice on Thursday, 27 June 2017\n",
      "                                           ^^^^^^^^^^^^^^^^^^^^^^\n",
      "Error starts at => 413\n",
      "Error ends at => 435\n",
      "Error in text => Thursday, 27 June 2017\n",
      "Can be replaced with => []\n",
      "\n",
      "--------------\n"
     ]
    }
   ],
   "source": [
    "for match in matches:\n",
    "    print(match)\n",
    "    print(f\"Error starts at => {match.offset}\")\n",
    "    print(f\"Error ends at => {match.offset+match.errorLength}\")\n",
    "    print(f\"Error in text => {text[match.offset:match.offset+match.errorLength]}\")\n",
    "    print(f\"Can be replaced with => {match.replacements}\", end=\"\\n\\n\")\n",
    "    print(\"--------------\")"
   ]
  }
 ],
 "metadata": {
  "kernelspec": {
   "display_name": "base",
   "language": "python",
   "name": "python3"
  },
  "language_info": {
   "codemirror_mode": {
    "name": "ipython",
    "version": 3
   },
   "file_extension": ".py",
   "mimetype": "text/x-python",
   "name": "python",
   "nbconvert_exporter": "python",
   "pygments_lexer": "ipython3",
   "version": "3.9.13"
  },
  "orig_nbformat": 4,
  "vscode": {
   "interpreter": {
    "hash": "ad2bdc8ecc057115af97d19610ffacc2b4e99fae6737bb82f5d7fb13d2f2c186"
   }
  }
 },
 "nbformat": 4,
 "nbformat_minor": 2
}
