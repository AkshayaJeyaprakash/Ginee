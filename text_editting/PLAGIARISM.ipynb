{
 "cells": [
  {
   "cell_type": "code",
   "execution_count": 1,
   "metadata": {},
   "outputs": [],
   "source": [
    "import requests\n",
    "import json\n",
    "import pyfiglet"
   ]
  },
  {
   "cell_type": "code",
   "execution_count": 2,
   "metadata": {},
   "outputs": [],
   "source": [
    "\n",
    "text_to_check = input(\"[?] Input text to check with Turnitin > \")\n",
    "burp0_url = \"https://papersowl.com:443/plagiarism-checker-send-data\"\n",
    "burp0_cookies = {\"PHPSESSID\": \"qjc72e3vvacbtn4jd1af1k5qn1\", \"first_interaction_user\": \"%7B%22referrer%22%3A%22https%3A%5C%2F%5C%2Fwww.google.com%5C%2F%22%2C%22internal_url%22%3A%22%5C%2Ffree-plagiarism-checker%22%2C%22utm_source%22%3Anull%2C%22utm_medium%22%3Anull%2C%22utm_campaign%22%3Anull%2C%22utm_content%22%3Anull%2C%22utm_term%22%3Anull%2C%22gclid%22%3Anull%2C%22msclkid%22%3Anull%2C%22adgroupid%22%3Anull%2C%22targetid%22%3Anull%2C%22appsflyer_id%22%3Anull%2C%22appsflyer_cuid%22%3Anull%2C%22cta_btn%22%3Anull%7D\", \"first_interaction_order\": \"%7B%22referrer%22%3A%22https%3A%5C%2F%5C%2Fwww.google.com%5C%2F%22%2C%22internal_url%22%3A%22%5C%2Ffree-plagiarism-checker%22%2C%22utm_source%22%3Anull%2C%22utm_medium%22%3Anull%2C%22utm_campaign%22%3Anull%2C%22utm_content%22%3Anull%2C%22utm_term%22%3Anull%2C%22gclid%22%3Anull%2C%22msclkid%22%3Anull%2C%22adgroupid%22%3Anull%2C%22targetid%22%3Anull%2C%22appsflyer_id%22%3Anull%2C%22appsflyer_cuid%22%3Anull%2C%22cta_btn%22%3Anull%7D\", \"affiliate_user\": \"a%3A3%3A%7Bs%3A9%3A%22affiliate%22%3Bs%3A9%3A%22papersowl%22%3Bs%3A6%3A%22medium%22%3Bs%3A9%3A%22papersowl%22%3Bs%3A8%3A%22campaign%22%3Bs%3A9%3A%22papersowl%22%3B%7D\", \"sbjs_migrations\": \"1418474375998%3D1\", \"sbjs_current_add\": \"fd%3D2022-05-24%2019%3A01%3A22%7C%7C%7Cep%3Dhttps%3A%2F%2Fpapersowl.com%2Ffree-plagiarism-checker%7C%7C%7Crf%3Dhttps%3A%2F%2Fwww.google.com%2F\", \"sbjs_first_add\": \"fd%3D2022-05-24%2019%3A01%3A22%7C%7C%7Cep%3Dhttps%3A%2F%2Fpapersowl.com%2Ffree-plagiarism-checker%7C%7C%7Crf%3Dhttps%3A%2F%2Fwww.google.com%2F\", \"sbjs_current\": \"typ%3Dorganic%7C%7C%7Csrc%3Dgoogle%7C%7C%7Cmdm%3Dorganic%7C%7C%7Ccmp%3D%28none%29%7C%7C%7Ccnt%3D%28none%29%7C%7C%7Ctrm%3D%28none%29\", \"sbjs_first\": \"typ%3Dorganic%7C%7C%7Csrc%3Dgoogle%7C%7C%7Cmdm%3Dorganic%7C%7C%7Ccmp%3D%28none%29%7C%7C%7Ccnt%3D%28none%29%7C%7C%7Ctrm%3D%28none%29\", \"sbjs_udata\": \"vst%3D1%7C%7C%7Cuip%3D%28none%29%7C%7C%7Cuag%3DMozilla%2F5.0%20%28Windows%20NT%206.3%3B%20Win64%3B%20x64%3B%20rv%3A100.0%29%20Gecko%2F20100101%20Firefox%2F100.0\", \"sbjs_session\": \"pgs%3D1%7C%7C%7Ccpg%3Dhttps%3A%2F%2Fpapersowl.com%2Ffree-plagiarism-checker\", \"_ga_788D7MTZB4\": \"GS1.1.1653411683.1.0.1653411683.0\", \"_ga\": \"GA1.1.1828699233.1653411683\", \"trustedsite_visit\": \"1\", \"trustedsite_tm_float_seen\": \"1\", \"AppleBannercookie_hide_header_banner\": \"1\", \"COOKIE_PLAGIARISM_CHECKER_TERMS\": \"1\", \"plagiarism_checker_progress_state\": \"1\"}\n",
    "burp0_headers = {\"User-Agent\": \"Mozilla/5.0 (Windows NT 6.3; Win64; x64; rv:100.0) Gecko/20100101 Firefox/100.0\", \"Accept\": \"*/*\", \"Accept-Language\": \"ru-RU,ru;q=0.8,en-US;q=0.5,en;q=0.3\", \"Accept-Encoding\": \"gzip, deflate\", \"Referer\": \"https://papersowl.com/free-plagiarism-checker\", \"Content-Type\": \"application/x-www-form-urlencoded; charset=UTF-8\", \"X-Requested-With\": \"XMLHttpRequest\", \"Origin\": \"https://papersowl.com\", \"Dnt\": \"1\", \"Sec-Fetch-Dest\": \"empty\", \"Sec-Fetch-Mode\": \"no-cors\", \"Sec-Fetch-Site\": \"same-origin\", \"Pragma\": \"no-cache\", \"Cache-Control\": \"no-cache\", \"Te\": \"trailers\", \"Connection\": \"close\"}\n",
    "burp0_data = {\"is_free\": \"false\", \"plagchecker_locale\": \"en\", \"product_paper_type\": \"1\", \"title\": '', \"text\": str(text_to_check)}\n",
    "r = requests.post(burp0_url, headers=burp0_headers, cookies=burp0_cookies, data=burp0_data)\n",
    "result = json.loads(r.text)"
   ]
  },
  {
   "cell_type": "code",
   "execution_count": 7,
   "metadata": {},
   "outputs": [
    {
     "name": "stdout",
     "output_type": "stream",
     "text": [
      "\n",
      "[!] Word count : 20\n",
      "\n",
      "[!] Turnitin index : 56.8\n",
      "\n",
      "[!] Matches are: \n",
      "{'url': 'https://auyrod.podrozegruzja.pl/', 'percent': '56.8', 'highlight': [['0', '2'], ['4', '6'], ['8', '15']]}\n",
      "{'url': 'https://en.wikipedia.org/wiki/Artificial_intelligence', 'percent': '51.2', 'highlight': [['0', '2'], ['4', '6'], ['8', '13'], ['15', '15']]}\n",
      "{'url': 'https://community.zapier.com/how-do-i-3/ai-artificial-intelligence-resources-19681', 'percent': '51.2', 'highlight': [['0', '2'], ['4', '6'], ['8', '13'], ['15', '15']]}\n",
      "{'url': 'https://detailedpedia.com/wiki-AI', 'percent': '51.2', 'highlight': [['0', '2'], ['4', '6'], ['8', '13'], ['15', '15']]}\n",
      "{'url': 'https://www.o-detstve.ru/users/138657/articles/175313-top-ten-technology-updates.html', 'percent': '51.2', 'highlight': [['0', '2'], ['4', '6'], ['8', '13'], ['15', '15']]}\n",
      "{'url': 'https://nijzze.zimazlego.pl/', 'percent': '51.2', 'highlight': [['0', '2'], ['4', '6'], ['8', '13'], ['15', '15']]}\n",
      "{'url': 'https://www.disabled-world.com/assistivedevices/ai/', 'percent': '44.4', 'highlight': [['0', '2'], ['4', '6'], ['8', '9'], ['13', '13'], ['15', '15']]}\n",
      "{'url': 'https://www.w3schools.com/ai/ai_whatis.asp', 'percent': '35.2', 'highlight': [['0', '2'], ['8', '9'], ['13', '15']]}\n",
      "{'url': 'https://habr.com/ru/post/657597/', 'percent': '23.5', 'highlight': [['0', '1'], ['12', '13'], ['15', '15']]}\n",
      "{'url': 'https://otvet.mail.ru/question/231242006', 'percent': '22.8', 'highlight': [['1', '1'], ['12', '15']]}\n"
     ]
    }
   ],
   "source": [
    "print(\"\\n[!] Word count : \" + str(result[\"words_count\"]))\n",
    "print(\"\\n[!] Turnitin index : \" + str(100 - float(result[\"percent\"])))\n",
    "match_result = result[\"matches\"]\n",
    "print(\"\\n[!] Matches are: \", )\n",
    "for i in match_result:\n",
    "    print(i)"
   ]
  }
 ],
 "metadata": {
  "kernelspec": {
   "display_name": "base",
   "language": "python",
   "name": "python3"
  },
  "language_info": {
   "codemirror_mode": {
    "name": "ipython",
    "version": 3
   },
   "file_extension": ".py",
   "mimetype": "text/x-python",
   "name": "python",
   "nbconvert_exporter": "python",
   "pygments_lexer": "ipython3",
   "version": "3.9.13"
  },
  "orig_nbformat": 4,
  "vscode": {
   "interpreter": {
    "hash": "ad2bdc8ecc057115af97d19610ffacc2b4e99fae6737bb82f5d7fb13d2f2c186"
   }
  }
 },
 "nbformat": 4,
 "nbformat_minor": 2
}
