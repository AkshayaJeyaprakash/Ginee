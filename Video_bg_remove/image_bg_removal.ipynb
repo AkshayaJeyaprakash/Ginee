{
 "cells": [
  {
   "cell_type": "code",
   "execution_count": 1,
   "id": "f1ef1409",
   "metadata": {},
   "outputs": [],
   "source": [
    "import cv2\n",
    "from PIL import Image\n",
    "from transparent_background import Remover"
   ]
  },
  {
   "cell_type": "code",
   "execution_count": 2,
   "id": "c72fbe68",
   "metadata": {},
   "outputs": [],
   "source": [
    "remover = Remover()"
   ]
  },
  {
   "cell_type": "code",
   "execution_count": 3,
   "id": "5b99c7d4",
   "metadata": {},
   "outputs": [],
   "source": [
    "img = Image.open('C://Users//Dell//Downloads//Video-Background-Removal-master//1.jpg').convert('RGB')\n",
    "out = remover.process(img) # default setting - transparent background\n",
    "Image.fromarray(out).save('output1.png') # save result"
   ]
  },
  {
   "cell_type": "code",
   "execution_count": 4,
   "id": "6c5952cb",
   "metadata": {},
   "outputs": [],
   "source": [
    "img = Image.open('C://Users//Dell//Downloads//Video-Background-Removal-master//2.jpg').convert('RGB')\n",
    "out = remover.process(img) # default setting - transparent background\n",
    "Image.fromarray(out).save('output2.png') # save result"
   ]
  },
  {
   "cell_type": "code",
   "execution_count": 5,
   "id": "fa3b4c42",
   "metadata": {},
   "outputs": [],
   "source": [
    "img = Image.open('C://Users//Dell//Downloads//Video-Background-Removal-master//3.jpg').convert('RGB')\n",
    "out = remover.process(img) # default setting - transparent background\n",
    "Image.fromarray(out).save('output3.png') # save result"
   ]
  },
  {
   "cell_type": "code",
   "execution_count": 6,
   "id": "efe3f5f8",
   "metadata": {},
   "outputs": [],
   "source": [
    "img = Image.open('C://Users//Dell//Downloads//Video-Background-Removal-master//4.jpg').convert('RGB')\n",
    "out = remover.process(img) # default setting - transparent background\n",
    "Image.fromarray(out).save('output4.png') # save result"
   ]
  },
  {
   "cell_type": "code",
   "execution_count": 7,
   "id": "fbbbe74e",
   "metadata": {},
   "outputs": [],
   "source": [
    "img = Image.open('C://Users//Dell//Downloads//Video-Background-Removal-master//5.jpg').convert('RGB')\n",
    "out = remover.process(img) # default setting - transparent background\n",
    "Image.fromarray(out).save('output5.png') # save result"
   ]
  },
  {
   "cell_type": "code",
   "execution_count": 8,
   "id": "6f487aef",
   "metadata": {},
   "outputs": [],
   "source": [
    "img = Image.open('C://Users//Dell//Downloads//Video-Background-Removal-master//6.jpg').convert('RGB')\n",
    "out = remover.process(img) # default setting - transparent background\n",
    "Image.fromarray(out).save('output6.png') # save result"
   ]
  },
  {
   "cell_type": "code",
   "execution_count": 9,
   "id": "51492f43",
   "metadata": {},
   "outputs": [],
   "source": [
    "img = Image.open('C://Users//Dell//Downloads//Video-Background-Removal-master//7.jpg').convert('RGB')\n",
    "out = remover.process(img) # default setting - transparent background\n",
    "Image.fromarray(out).save('output7.png') # save result"
   ]
  },
  {
   "cell_type": "code",
   "execution_count": 10,
   "id": "675e67a7",
   "metadata": {},
   "outputs": [],
   "source": [
    "img = Image.open('C://Users//Dell//Downloads//Video-Background-Removal-master//8.jpg').convert('RGB')\n",
    "out = remover.process(img) # default setting - transparent background\n",
    "Image.fromarray(out).save('output8.png') # save result"
   ]
  },
  {
   "cell_type": "code",
   "execution_count": 11,
   "id": "444b0dcd",
   "metadata": {},
   "outputs": [],
   "source": [
    "img = Image.open('C://Users//Dell//Downloads//Video-Background-Removal-master//9.jpg').convert('RGB')\n",
    "out = remover.process(img) # default setting - transparent background\n",
    "Image.fromarray(out).save('output9.png') # save result"
   ]
  },
  {
   "cell_type": "code",
   "execution_count": 12,
   "id": "47dcea4a",
   "metadata": {},
   "outputs": [],
   "source": [
    "# out = remover.process(img, type='rgba') # same as above\n",
    "# out = remover.process(img, type='map') # object map only\n",
    "# out = remover.process(img, type='green') # image matting - green screen\n",
    "# out = remover.process(img, type='blur') # blur background\n",
    "# out = remover.process(img, type='overlay') # overlay object map onto the image"
   ]
  }
 ],
 "metadata": {
  "kernelspec": {
   "display_name": "Python 3 (ipykernel)",
   "language": "python",
   "name": "python3"
  },
  "language_info": {
   "codemirror_mode": {
    "name": "ipython",
    "version": 3
   },
   "file_extension": ".py",
   "mimetype": "text/x-python",
   "name": "python",
   "nbconvert_exporter": "python",
   "pygments_lexer": "ipython3",
   "version": "3.9.13"
  }
 },
 "nbformat": 4,
 "nbformat_minor": 5
}
