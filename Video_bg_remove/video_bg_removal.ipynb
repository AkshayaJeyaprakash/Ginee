{
 "cells": [
  {
   "cell_type": "code",
   "execution_count": 1,
   "id": "f1ef1409",
   "metadata": {},
   "outputs": [],
   "source": [
    "import cv2\n",
    "from PIL import Image\n",
    "from transparent_background import Remover\n",
    "import numpy as np"
   ]
  },
  {
   "cell_type": "code",
   "execution_count": 2,
   "id": "c72fbe68",
   "metadata": {},
   "outputs": [],
   "source": [
    "remover = Remover()"
   ]
  },
  {
   "cell_type": "code",
   "execution_count": 3,
   "id": "9c5e5e82",
   "metadata": {},
   "outputs": [],
   "source": [
    "cap = cv2.VideoCapture(\"C://Users//Dell//Downloads//Video-Background-Removal-master//videos//vid2.mp4\") # video reader for input\n",
    "fps = cap.get(cv2.CAP_PROP_FPS)\n",
    "writer = None"
   ]
  },
  {
   "cell_type": "code",
   "execution_count": 4,
   "id": "dad80a42",
   "metadata": {},
   "outputs": [
    {
     "name": "stdout",
     "output_type": "stream",
     "text": [
      "1\n",
      "2\n",
      "3\n",
      "4\n",
      "5\n",
      "6\n",
      "7\n",
      "8\n",
      "9\n",
      "10\n",
      "11\n",
      "12\n",
      "13\n",
      "14\n",
      "15\n",
      "16\n",
      "17\n",
      "18\n",
      "19\n",
      "20\n",
      "21\n",
      "22\n",
      "23\n",
      "24\n"
     ]
    }
   ],
   "source": [
    "i=0\n",
    "while cap.isOpened():\n",
    "    ret, frame = cap.read() # read video\n",
    "    if ret is False:\n",
    "        break\n",
    "    frame = cv2.cvtColor(frame, cv2.COLOR_BGR2RGB) \n",
    "    img = Image.fromarray(frame).convert('RGB')\n",
    "    if writer is None:\n",
    "        writer = cv2.VideoWriter('output.mp4', cv2.VideoWriter_fourcc(*'mp4v'), fps, img.size) # video writer for output\n",
    "    out1 = remover.process(img, type='map').clip(max=1)\n",
    "    out = np.multiply(frame,out1)\n",
    "    cvx1 = cv2.cvtColor(out, cv2.COLOR_BGR2RGB)\n",
    "    writer.write(cvx1)\n",
    "    i = i+1\n",
    "    print(i)\n",
    "cap.release()\n",
    "writer.release()"
   ]
  },
  {
   "cell_type": "code",
   "execution_count": null,
   "id": "1f554eb1",
   "metadata": {},
   "outputs": [],
   "source": []
  }
 ],
 "metadata": {
  "kernelspec": {
   "display_name": "Python 3 (ipykernel)",
   "language": "python",
   "name": "python3"
  },
  "language_info": {
   "codemirror_mode": {
    "name": "ipython",
    "version": 3
   },
   "file_extension": ".py",
   "mimetype": "text/x-python",
   "name": "python",
   "nbconvert_exporter": "python",
   "pygments_lexer": "ipython3",
   "version": "3.9.13"
  }
 },
 "nbformat": 4,
 "nbformat_minor": 5
}
