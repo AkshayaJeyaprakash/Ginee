{
 "cells": [
  {
   "cell_type": "code",
   "execution_count": 4,
   "metadata": {},
   "outputs": [],
   "source": [
    "import pandas as pd\n",
    "from sklearn.linear_model import LinearRegression\n",
    "import datetime as dt"
   ]
  },
  {
   "cell_type": "code",
   "execution_count": 5,
   "metadata": {},
   "outputs": [],
   "source": [
    "df = pd.read_csv('ad_data.csv')\n",
    "for j in range(0,23):\n",
    "    i = 23-j\n",
    "    df.iloc[i,:-1] = df.iloc[i,:-1] - df.iloc[i-1,:-1]"
   ]
  },
  {
   "cell_type": "code",
   "execution_count": 6,
   "metadata": {},
   "outputs": [
    {
     "name": "stdout",
     "output_type": "stream",
     "text": [
      "The best hour of the day to post an advertisement is 1:00.\n"
     ]
    }
   ],
   "source": [
    "df['Interaction Rate'] = (df['Clicks'] + df['Likes'] + df['Comments'] + df['Other Interactions']) / df['Impressions']\n",
    "df['Hour'] = pd.to_datetime(df['Hour'], format='%H').dt.hour\n",
    "X = df[['Hour']]\n",
    "y = df['Interaction Rate']\n",
    "model = LinearRegression()\n",
    "model.fit(X, y)\n",
    "new_data = pd.DataFrame({'Hour': range(24)})\n",
    "predicted_rates = model.predict(new_data)\n",
    "fore = y +predicted_rates\n",
    "best_hour = fore.argmax()\n",
    "print(f\"The best hour of the day to post an advertisement is {best_hour}:00.\")"
   ]
  }
 ],
 "metadata": {
  "kernelspec": {
   "display_name": "base",
   "language": "python",
   "name": "python3"
  },
  "language_info": {
   "codemirror_mode": {
    "name": "ipython",
    "version": 3
   },
   "file_extension": ".py",
   "mimetype": "text/x-python",
   "name": "python",
   "nbconvert_exporter": "python",
   "pygments_lexer": "ipython3",
   "version": "3.9.13"
  },
  "orig_nbformat": 4
 },
 "nbformat": 4,
 "nbformat_minor": 2
}
